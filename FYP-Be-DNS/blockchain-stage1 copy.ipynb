{
 "cells": [
  {
   "cell_type": "code",
   "execution_count": 1,
   "metadata": {},
   "outputs": [],
   "source": [
    "from dataclasses import dataclass\n",
    "from hashlib import sha256\n",
    "from datetime import datetime\n",
    "from flask import Flask, request\n",
    "import requests\n",
    "import rsa\n",
    "import json\n",
    "\n",
    "def getTime():\n",
    "    now = datetime.now()\n",
    "    time = now.strftime(\"%Y-%m-%d, %H:%M:%S\")\n",
    "    return time\n",
    "\n",
    "def getHash(data):\n",
    "    return sha256(data.encode()).hexdigest()\n",
    "\n",
    "class blockchain:   \n",
    "    def __init__(self):    \n",
    "        self.chain = []\n",
    "        self.NametoIpmap = {}\n",
    "        self.NametoOwnermap = {}\n",
    "        genesisBlock = block(0, 0x0, getTime(), 0x0)\n",
    "        self.chain.append(genesisBlock)\n",
    "\n",
    "    def getPreviousHash(self):\n",
    "        return self.chain[-1].hash\n",
    "\n",
    "    def getMapHash(self):\n",
    "        mapHash = getHash(str(self.NametoIpmap) + str(self.NametoOwnermap))\n",
    "        return mapHash\n",
    "\n",
    "    def checkVaild(self):\n",
    "        check = (self.chain[-1].mapHash == self.getMapHash())&(self.chain[-1].previousHash == self.chain[-2].hash)\n",
    "        return check\n",
    "\n",
    "    def addNewBlock(self):\n",
    "        newBlock = block(len(self.chain), self.getPreviousHash(), getTime(), self.getMapHash())\n",
    "        self.chain.append(newBlock)\n",
    "\n",
    "    def addNewBinding(self, domainName, ip, owner):\n",
    "        assert self.NametoIpmap.get(getHash(domainName), 'not exist') == 'not exist', 'Domain Name used'\n",
    "        self.NametoIpmap[getHash(domainName)] = str(ip)\n",
    "        self.NametoOwnermap[getHash(domainName)] = getHash(owner)\n",
    "        self.addNewBlock()\n",
    "\n",
    "    def changeBinding(self, domainName, Newip, owner):\n",
    "        assert self.NametoOwnermap.get(getHash(domainName), 'not exist') != 'not exist', 'Domain Name not exist'\n",
    "        assert self.NametoOwnermap.get(getHash(domainName), 'not exist') == getHash(owner), 'invaild user'\n",
    "        self.NametoIpmap[getHash(domainName)] = str(Newip)\n",
    "        self.addNewBlock()\n",
    "\n",
    "    def queryBinding(self, domainName):\n",
    "        assert self.checkVaild, 'invaild blockchain log'\n",
    "        assert self.NametoIpmap.get(getHash(domainName), 'not exist') != 'not exist', 'Corresponding IP address not exist'\n",
    "        return self.NametoIpmap[getHash(domainName)]\n",
    "\n",
    "    def showBlock(self, index):\n",
    "        selected_block = self.chain[index]\n",
    "        print('{')\n",
    "        print('index: ' + str(selected_block.index))\n",
    "        print('previousHash: ' + str(selected_block.previousHash))\n",
    "        print('timestamp: ' + str(selected_block.timestamp))\n",
    "        print('mapHash: ' + str(selected_block.mapHash))\n",
    "        print('} => Hash: ' + str(selected_block.hash))\n",
    "        print('-'*80)\n",
    "\n",
    "    def showAllBlock(self):\n",
    "        for i in range(len(self.chain)):\n",
    "            self.showBlock(i)\n",
    "\n",
    "class block:\n",
    "    def __init__(self, index, previousHash, timestamp, mapHash):    \n",
    "        self.index = index\n",
    "        self.previousHash = previousHash\n",
    "        self.timestamp = timestamp\n",
    "        self.mapHash = mapHash\n",
    "        self.blockjson = {\n",
    "                            'index': self.index,\n",
    "                            'previousHash': self.previousHash,\n",
    "                            'timestamp': self.timestamp,\n",
    "                            'mapHash': self.mapHash,\n",
    "                        }\n",
    "        self.hash = sha256(json.dumps(self.blockjson).encode()).hexdigest()\n",
    "\n",
    "class account:\n",
    "    def __init__(self):\n",
    "        (publickey, privatekey) = rsa.newkeys(512)\n",
    "        self.privateKey = privatekey\n",
    "        self.publicKey = publickey\n",
    "\n",
    "    def encrypt(self, text):\n",
    "        cipher = rsa.encrypt(bytes(text, encoding='utf-8'), self.publicKey)\n",
    "        return cipher\n",
    "\n",
    "    def decrypt(self, encrypt_text):\n",
    "        plain = rsa.decrypt(encrypt_text, self.privateKey)\n",
    "        return str(plain, encoding = \"utf-8\")\n",
    "\n",
    "    def sign(self, hash):\n",
    "        signature = rsa.sign(bytes(hash, encoding='utf-8'), self.privateKey, 'SHA-256')\n",
    "        return signature\n",
    "\n",
    "    def verify(self, signature, hash):\n",
    "        method = rsa.verify(bytes(hash, encoding='utf-8'), signature, self.publicKey)\n",
    "        return method == 'SHA-256'"
   ]
  },
  {
   "cell_type": "code",
   "execution_count": 2,
   "metadata": {},
   "outputs": [
    {
     "ename": "AssertionError",
     "evalue": "Corresponding IP address not exist",
     "output_type": "error",
     "traceback": [
      "\u001b[1;31m---------------------------------------------------------------------------\u001b[0m",
      "\u001b[1;31mAssertionError\u001b[0m                            Traceback (most recent call last)",
      "Cell \u001b[1;32mIn [2], line 5\u001b[0m\n\u001b[0;32m      2\u001b[0m userA \u001b[38;5;241m=\u001b[39m account()\n\u001b[0;32m      3\u001b[0m userB \u001b[38;5;241m=\u001b[39m account()\n\u001b[1;32m----> 5\u001b[0m \u001b[43mchainA\u001b[49m\u001b[38;5;241;43m.\u001b[39;49m\u001b[43mqueryBinding\u001b[49m\u001b[43m(\u001b[49m\u001b[38;5;124;43m'\u001b[39;49m\u001b[38;5;124;43mbaidu\u001b[39;49m\u001b[38;5;124;43m'\u001b[39;49m\u001b[43m)\u001b[49m\n",
      "Cell \u001b[1;32mIn [1], line 54\u001b[0m, in \u001b[0;36mblockchain.queryBinding\u001b[1;34m(self, domainName)\u001b[0m\n\u001b[0;32m     52\u001b[0m \u001b[38;5;28;01mdef\u001b[39;00m \u001b[38;5;21mqueryBinding\u001b[39m(\u001b[38;5;28mself\u001b[39m, domainName):\n\u001b[0;32m     53\u001b[0m     \u001b[38;5;28;01massert\u001b[39;00m \u001b[38;5;28mself\u001b[39m\u001b[38;5;241m.\u001b[39mcheckVaild, \u001b[38;5;124m'\u001b[39m\u001b[38;5;124minvaild blockchain log\u001b[39m\u001b[38;5;124m'\u001b[39m\n\u001b[1;32m---> 54\u001b[0m     \u001b[38;5;28;01massert\u001b[39;00m \u001b[38;5;28mself\u001b[39m\u001b[38;5;241m.\u001b[39mNametoIpmap\u001b[38;5;241m.\u001b[39mget(getHash(domainName), \u001b[38;5;124m'\u001b[39m\u001b[38;5;124mnot exist\u001b[39m\u001b[38;5;124m'\u001b[39m) \u001b[38;5;241m!=\u001b[39m \u001b[38;5;124m'\u001b[39m\u001b[38;5;124mnot exist\u001b[39m\u001b[38;5;124m'\u001b[39m, \u001b[38;5;124m'\u001b[39m\u001b[38;5;124mCorresponding IP address not exist\u001b[39m\u001b[38;5;124m'\u001b[39m\n\u001b[0;32m     55\u001b[0m     \u001b[38;5;28;01mreturn\u001b[39;00m \u001b[38;5;28mself\u001b[39m\u001b[38;5;241m.\u001b[39mNametoIpmap[getHash(domainName)]\n",
      "\u001b[1;31mAssertionError\u001b[0m: Corresponding IP address not exist"
     ]
    }
   ],
   "source": [
    "chainA = blockchain()\n",
    "userA = account()\n",
    "userB = account()\n",
    "\n",
    "chainA.queryBinding('baidu')"
   ]
  },
  {
   "cell_type": "code",
   "execution_count": 3,
   "metadata": {},
   "outputs": [
    {
     "name": "stdout",
     "output_type": "stream",
     "text": [
      "{\n",
      "index: 0\n",
      "previousHash: 0\n",
      "timestamp: 2023-03-06, 10:01:05\n",
      "mapHash: 0\n",
      "} => Hash: 36bbfc914f6e285efe5fb6455a046fda77b7953b4517f707592f1b4892d939ea\n",
      "--------------------------------------------------------------------------------\n",
      "{\n",
      "index: 1\n",
      "previousHash: 36bbfc914f6e285efe5fb6455a046fda77b7953b4517f707592f1b4892d939ea\n",
      "timestamp: 2023-03-06, 10:01:10\n",
      "mapHash: a232acc54f67159042e7b786dacc2a69e65945677cfdd8831973c7b7c7755839\n",
      "} => Hash: fc780892b398c76e94be180e5b227bfdce191555566727bb7dc495492adcf038\n",
      "--------------------------------------------------------------------------------\n"
     ]
    },
    {
     "data": {
      "text/plain": [
       "'192.168.1.1'"
      ]
     },
     "execution_count": 3,
     "metadata": {},
     "output_type": "execute_result"
    }
   ],
   "source": [
    "chainA.addNewBinding('baidu', '192.168.1.1', str(userA.publicKey))\n",
    "chainA.showAllBlock()\n",
    "chainA.checkVaild()\n",
    "chainA.queryBinding('baidu')"
   ]
  },
  {
   "cell_type": "code",
   "execution_count": 4,
   "metadata": {},
   "outputs": [
    {
     "data": {
      "text/plain": [
       "'192.168.1.1'"
      ]
     },
     "execution_count": 4,
     "metadata": {},
     "output_type": "execute_result"
    }
   ],
   "source": [
    "chainA.addNewBinding('baidu.com', '192.168.1.1', str(userA.publicKey))\n",
    "chainA.queryBinding('baidu.com')"
   ]
  },
  {
   "cell_type": "code",
   "execution_count": 5,
   "metadata": {},
   "outputs": [
    {
     "data": {
      "text/plain": [
       "'192.168.1.2'"
      ]
     },
     "execution_count": 5,
     "metadata": {},
     "output_type": "execute_result"
    }
   ],
   "source": [
    "chainA.changeBinding('baidu.com', '192.168.1.2', str(userA.publicKey))\n",
    "chainA.queryBinding('baidu.com')"
   ]
  },
  {
   "cell_type": "code",
   "execution_count": 6,
   "metadata": {},
   "outputs": [
    {
     "ename": "AssertionError",
     "evalue": "invaild user",
     "output_type": "error",
     "traceback": [
      "\u001b[1;31m---------------------------------------------------------------------------\u001b[0m",
      "\u001b[1;31mAssertionError\u001b[0m                            Traceback (most recent call last)",
      "Cell \u001b[1;32mIn [6], line 1\u001b[0m\n\u001b[1;32m----> 1\u001b[0m \u001b[43mchainA\u001b[49m\u001b[38;5;241;43m.\u001b[39;49m\u001b[43mchangeBinding\u001b[49m\u001b[43m(\u001b[49m\u001b[38;5;124;43m'\u001b[39;49m\u001b[38;5;124;43mbaidu.com\u001b[39;49m\u001b[38;5;124;43m'\u001b[39;49m\u001b[43m,\u001b[49m\u001b[43m \u001b[49m\u001b[38;5;124;43m'\u001b[39;49m\u001b[38;5;124;43m192.168.1.2\u001b[39;49m\u001b[38;5;124;43m'\u001b[39;49m\u001b[43m,\u001b[49m\u001b[43m \u001b[49m\u001b[38;5;28;43mstr\u001b[39;49m\u001b[43m(\u001b[49m\u001b[43muserB\u001b[49m\u001b[38;5;241;43m.\u001b[39;49m\u001b[43mpublicKey\u001b[49m\u001b[43m)\u001b[49m\u001b[43m)\u001b[49m\n",
      "Cell \u001b[1;32mIn [1], line 48\u001b[0m, in \u001b[0;36mblockchain.changeBinding\u001b[1;34m(self, domainName, Newip, owner)\u001b[0m\n\u001b[0;32m     46\u001b[0m \u001b[38;5;28;01mdef\u001b[39;00m \u001b[38;5;21mchangeBinding\u001b[39m(\u001b[38;5;28mself\u001b[39m, domainName, Newip, owner):\n\u001b[0;32m     47\u001b[0m     \u001b[38;5;28;01massert\u001b[39;00m \u001b[38;5;28mself\u001b[39m\u001b[38;5;241m.\u001b[39mNametoOwnermap\u001b[38;5;241m.\u001b[39mget(getHash(domainName), \u001b[38;5;124m'\u001b[39m\u001b[38;5;124mnot exist\u001b[39m\u001b[38;5;124m'\u001b[39m) \u001b[38;5;241m!=\u001b[39m \u001b[38;5;124m'\u001b[39m\u001b[38;5;124mnot exist\u001b[39m\u001b[38;5;124m'\u001b[39m, \u001b[38;5;124m'\u001b[39m\u001b[38;5;124mDomain Name not exist\u001b[39m\u001b[38;5;124m'\u001b[39m\n\u001b[1;32m---> 48\u001b[0m     \u001b[38;5;28;01massert\u001b[39;00m \u001b[38;5;28mself\u001b[39m\u001b[38;5;241m.\u001b[39mNametoOwnermap\u001b[38;5;241m.\u001b[39mget(getHash(domainName), \u001b[38;5;124m'\u001b[39m\u001b[38;5;124mnot exist\u001b[39m\u001b[38;5;124m'\u001b[39m) \u001b[38;5;241m==\u001b[39m getHash(owner), \u001b[38;5;124m'\u001b[39m\u001b[38;5;124minvaild user\u001b[39m\u001b[38;5;124m'\u001b[39m\n\u001b[0;32m     49\u001b[0m     \u001b[38;5;28mself\u001b[39m\u001b[38;5;241m.\u001b[39mNametoIpmap[getHash(domainName)] \u001b[38;5;241m=\u001b[39m \u001b[38;5;28mstr\u001b[39m(Newip)\n\u001b[0;32m     50\u001b[0m     \u001b[38;5;28mself\u001b[39m\u001b[38;5;241m.\u001b[39maddNewBlock()\n",
      "\u001b[1;31mAssertionError\u001b[0m: invaild user"
     ]
    }
   ],
   "source": [
    "chainA.changeBinding('baidu.com', '192.168.1.2', str(userB.publicKey))"
   ]
  },
  {
   "cell_type": "code",
   "execution_count": 7,
   "metadata": {},
   "outputs": [
    {
     "ename": "AssertionError",
     "evalue": "Domain Name not exist",
     "output_type": "error",
     "traceback": [
      "\u001b[1;31m---------------------------------------------------------------------------\u001b[0m",
      "\u001b[1;31mAssertionError\u001b[0m                            Traceback (most recent call last)",
      "Cell \u001b[1;32mIn [7], line 1\u001b[0m\n\u001b[1;32m----> 1\u001b[0m \u001b[43mchainA\u001b[49m\u001b[38;5;241;43m.\u001b[39;49m\u001b[43mchangeBinding\u001b[49m\u001b[43m(\u001b[49m\u001b[38;5;124;43m'\u001b[39;49m\u001b[38;5;124;43mwww.baidu.com\u001b[39;49m\u001b[38;5;124;43m'\u001b[39;49m\u001b[43m,\u001b[49m\u001b[43m \u001b[49m\u001b[38;5;124;43m'\u001b[39;49m\u001b[38;5;124;43m192.168.1.2\u001b[39;49m\u001b[38;5;124;43m'\u001b[39;49m\u001b[43m,\u001b[49m\u001b[43m \u001b[49m\u001b[38;5;28;43mstr\u001b[39;49m\u001b[43m(\u001b[49m\u001b[43muserB\u001b[49m\u001b[38;5;241;43m.\u001b[39;49m\u001b[43mpublicKey\u001b[49m\u001b[43m)\u001b[49m\u001b[43m)\u001b[49m\n",
      "Cell \u001b[1;32mIn [1], line 47\u001b[0m, in \u001b[0;36mblockchain.changeBinding\u001b[1;34m(self, domainName, Newip, owner)\u001b[0m\n\u001b[0;32m     46\u001b[0m \u001b[38;5;28;01mdef\u001b[39;00m \u001b[38;5;21mchangeBinding\u001b[39m(\u001b[38;5;28mself\u001b[39m, domainName, Newip, owner):\n\u001b[1;32m---> 47\u001b[0m     \u001b[38;5;28;01massert\u001b[39;00m \u001b[38;5;28mself\u001b[39m\u001b[38;5;241m.\u001b[39mNametoOwnermap\u001b[38;5;241m.\u001b[39mget(getHash(domainName), \u001b[38;5;124m'\u001b[39m\u001b[38;5;124mnot exist\u001b[39m\u001b[38;5;124m'\u001b[39m) \u001b[38;5;241m!=\u001b[39m \u001b[38;5;124m'\u001b[39m\u001b[38;5;124mnot exist\u001b[39m\u001b[38;5;124m'\u001b[39m, \u001b[38;5;124m'\u001b[39m\u001b[38;5;124mDomain Name not exist\u001b[39m\u001b[38;5;124m'\u001b[39m\n\u001b[0;32m     48\u001b[0m     \u001b[38;5;28;01massert\u001b[39;00m \u001b[38;5;28mself\u001b[39m\u001b[38;5;241m.\u001b[39mNametoOwnermap\u001b[38;5;241m.\u001b[39mget(getHash(domainName), \u001b[38;5;124m'\u001b[39m\u001b[38;5;124mnot exist\u001b[39m\u001b[38;5;124m'\u001b[39m) \u001b[38;5;241m==\u001b[39m getHash(owner), \u001b[38;5;124m'\u001b[39m\u001b[38;5;124minvaild user\u001b[39m\u001b[38;5;124m'\u001b[39m\n\u001b[0;32m     49\u001b[0m     \u001b[38;5;28mself\u001b[39m\u001b[38;5;241m.\u001b[39mNametoIpmap[getHash(domainName)] \u001b[38;5;241m=\u001b[39m \u001b[38;5;28mstr\u001b[39m(Newip)\n",
      "\u001b[1;31mAssertionError\u001b[0m: Domain Name not exist"
     ]
    }
   ],
   "source": [
    "chainA.changeBinding('www.baidu.com', '192.168.1.2', str(userB.publicKey))"
   ]
  },
  {
   "cell_type": "code",
   "execution_count": 8,
   "metadata": {},
   "outputs": [
    {
     "name": "stdout",
     "output_type": "stream",
     "text": [
      "{\n",
      "index: 0\n",
      "previousHash: 0\n",
      "timestamp: 2023-03-06, 10:01:05\n",
      "mapHash: 0\n",
      "} => Hash: 36bbfc914f6e285efe5fb6455a046fda77b7953b4517f707592f1b4892d939ea\n",
      "--------------------------------------------------------------------------------\n",
      "{\n",
      "index: 1\n",
      "previousHash: 36bbfc914f6e285efe5fb6455a046fda77b7953b4517f707592f1b4892d939ea\n",
      "timestamp: 2023-03-06, 10:01:10\n",
      "mapHash: a232acc54f67159042e7b786dacc2a69e65945677cfdd8831973c7b7c7755839\n",
      "} => Hash: fc780892b398c76e94be180e5b227bfdce191555566727bb7dc495492adcf038\n",
      "--------------------------------------------------------------------------------\n",
      "{\n",
      "index: 2\n",
      "previousHash: fc780892b398c76e94be180e5b227bfdce191555566727bb7dc495492adcf038\n",
      "timestamp: 2023-03-06, 10:01:13\n",
      "mapHash: 0f70df8838853caa22bda937c29e0338d30ac8916cfede27d718b66438525032\n",
      "} => Hash: ddebc8fc2e02cc90b9eec48c5e936d16d373eb8c6336f4b013347033b8961edc\n",
      "--------------------------------------------------------------------------------\n",
      "{\n",
      "index: 3\n",
      "previousHash: ddebc8fc2e02cc90b9eec48c5e936d16d373eb8c6336f4b013347033b8961edc\n",
      "timestamp: 2023-03-06, 10:01:15\n",
      "mapHash: b2dd86a346ff3e77c3c02d41a58ff9529853d00f0dca543411110c0c33a12305\n",
      "} => Hash: 5134cbbf1830de2f1ffc5b86bc0e716e3e0f884c07438a4e6c4894b9c63d2cfe\n",
      "--------------------------------------------------------------------------------\n"
     ]
    },
    {
     "data": {
      "text/plain": [
       "{'a89151ba4b5ac0f22e96b71b963db927791d3808f5175f06ae4a60de5891bf0f': '192.168.1.1',\n",
       " '79a12352634d1a1588b639d3ca5140b71bc83e155b491fb6a4940c1c8fbe9fdb': '192.168.1.2'}"
      ]
     },
     "execution_count": 8,
     "metadata": {},
     "output_type": "execute_result"
    }
   ],
   "source": [
    "chainA.showAllBlock()\n",
    "\n",
    "chainA.NametoIpmap"
   ]
  },
  {
   "cell_type": "code",
   "execution_count": 9,
   "metadata": {},
   "outputs": [
    {
     "data": {
      "text/plain": [
       "{'a89151ba4b5ac0f22e96b71b963db927791d3808f5175f06ae4a60de5891bf0f': '48ac2e11579e99ceb25d89563fa5cbca68278355fa9771fdae0d993b785126fc',\n",
       " '79a12352634d1a1588b639d3ca5140b71bc83e155b491fb6a4940c1c8fbe9fdb': '48ac2e11579e99ceb25d89563fa5cbca68278355fa9771fdae0d993b785126fc'}"
      ]
     },
     "execution_count": 9,
     "metadata": {},
     "output_type": "execute_result"
    }
   ],
   "source": [
    "chainA.NametoOwnermap"
   ]
  }
 ],
 "metadata": {
  "kernelspec": {
   "display_name": "Python 3.10.6 64-bit",
   "language": "python",
   "name": "python3"
  },
  "language_info": {
   "codemirror_mode": {
    "name": "ipython",
    "version": 3
   },
   "file_extension": ".py",
   "mimetype": "text/x-python",
   "name": "python",
   "nbconvert_exporter": "python",
   "pygments_lexer": "ipython3",
   "version": "3.10.6"
  },
  "orig_nbformat": 4,
  "vscode": {
   "interpreter": {
    "hash": "ff65a526157b4d472075c44ff3d1354322631112322e560da28148409c2d2bd6"
   }
  }
 },
 "nbformat": 4,
 "nbformat_minor": 2
}
