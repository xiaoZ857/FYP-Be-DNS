{
 "cells": [
  {
   "cell_type": "code",
   "execution_count": 5,
   "metadata": {},
   "outputs": [],
   "source": [
    "import random\n",
    "import threading\n",
    "import time\n",
    "import json\n",
    "import requests\n",
    "from blockchain import*\n",
    "\n",
    "class node:\n",
    "    def __init__(self, blockchain):\n",
    "        self.term = 0\n",
    "        self.nodes = set()\n",
    "        self.blockchain = blockchain\n",
    "        self.syncer = None\n",
    "        self.syncer_timeout = random.uniform(1, 5)\n",
    "        self.timer = threading.Timer(self.syncer_timeout, self.start_election)\n",
    "        self.timer.start()\n",
    "\n",
    "    def start_election(self):\n",
    "        self.term += 1\n",
    "        votes_received = 0\n",
    "        for node in self.nodes:\n",
    "            response = requests.post(f'http://{node}/vote_request', data=self.term)\n",
    "            if response.status_code == 200:\n",
    "                if response.json()['vote'] == 'yes':\n",
    "                    votes_received += 1\n",
    "\n",
    "        \n",
    "        if votes_received >= len(self.nodes) // 2:\n",
    "            self.syncer = self.url\n",
    "            self.send_heartbeat()\n",
    "\n",
    "    \n",
    "\n",
    "    \n"
   ]
  },
  {
   "cell_type": "code",
   "execution_count": null,
   "metadata": {},
   "outputs": [],
   "source": [
    "\n",
    "\n",
    "\n",
    "\n",
    "def send_heartbeat(self):\n",
    "        while self.syncer == self.url:\n",
    "            time.sleep(5)\n",
    "            for node in self.nodes:\n",
    "                node.receive_heartbeat(self.url, self.blockchain.getPreviousHash())\n",
    "\n",
    "    def receive_heartbeat(self, syncer_url, syncer_prev_hash):\n",
    "        if self.blockchain.getPreviousHash() == syncer_prev_hash:\n",
    "            self.syncer = syncer_url\n",
    "            self.timer.cancel()\n",
    "            self.syncer_timeout = random.uniform(1, 5)\n",
    "            self.timer = threading.Timer(self.syncer_timeout, self.start_election)\n",
    "            self.timer.start()\n",
    "\n",
    "    def add_block(self, new_block):\n",
    "        if self.syncer is not None:\n",
    "            if self.blockchain.getPreviousHash() == self.nodes[self.syncer].blockchain.getPreviousHash():\n",
    "                self.blockchain.add_new_block(new_block)\n",
    "                for node in self.nodes:\n",
    "                    node.receive_block(new_block)\n",
    "\n",
    "    def receive_block(self, new_block):\n",
    "        if self.blockchain.verify_new_block(new_block):\n",
    "            self.blockchain.add_new_block(new_block)"
   ]
  }
 ],
 "metadata": {
  "kernelspec": {
   "display_name": "Python 3.10.6 64-bit",
   "language": "python",
   "name": "python3"
  },
  "language_info": {
   "codemirror_mode": {
    "name": "ipython",
    "version": 3
   },
   "file_extension": ".py",
   "mimetype": "text/x-python",
   "name": "python",
   "nbconvert_exporter": "python",
   "pygments_lexer": "ipython3",
   "version": "3.10.6"
  },
  "orig_nbformat": 4,
  "vscode": {
   "interpreter": {
    "hash": "ff65a526157b4d472075c44ff3d1354322631112322e560da28148409c2d2bd6"
   }
  }
 },
 "nbformat": 4,
 "nbformat_minor": 2
}
