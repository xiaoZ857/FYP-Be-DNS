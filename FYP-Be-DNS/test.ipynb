{
 "cells": [
  {
   "cell_type": "code",
   "execution_count": null,
   "metadata": {},
   "outputs": [],
   "source": [
    "time start\n",
    "\n",
    "receive to list\n",
    "timestampA(index) = original t1\n",
    "request\n",
    "\n",
    "while True & list not null\n",
    "    for Tran in list\n",
    "\n",
    "    latency = time - t1\n",
    "    if latency > 850\n",
    "        request\n",
    "        t1 = time\n",
    "    else\n",
    "        chek list \n",
    "        if first of list ok for commit\n",
    "            commit & timestampB(index)\n",
    "            latency=b-a\n",
    "        else if not ok\n",
    "            none \n",
    "\n",
    "\n"
   ]
  }
 ],
 "metadata": {
  "kernelspec": {
   "display_name": "Python 3.10.6 64-bit",
   "language": "python",
   "name": "python3"
  },
  "language_info": {
   "name": "python",
   "version": "3.10.6"
  },
  "orig_nbformat": 4,
  "vscode": {
   "interpreter": {
    "hash": "ff65a526157b4d472075c44ff3d1354322631112322e560da28148409c2d2bd6"
   }
  }
 },
 "nbformat": 4,
 "nbformat_minor": 2
}
